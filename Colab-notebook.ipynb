{
 "cells": [
  {
   "cell_type": "markdown",
   "metadata": {},
   "source": [
    "# Fast Style Transfer using pytorch"
   ]
  },
  {
   "cell_type": "markdown",
   "metadata": {},
   "source": [
    "Clone the repository"
   ]
  },
  {
   "cell_type": "code",
   "execution_count": null,
   "metadata": {},
   "outputs": [],
   "source": [
    "!git clone https://github.com/pytorch/examples.git"
   ]
  },
  {
   "cell_type": "markdown",
   "metadata": {},
   "source": [
    "Install onnx and onnx-caffe2 for caffe2 implementation"
   ]
  },
  {
   "cell_type": "code",
   "execution_count": null,
   "metadata": {},
   "outputs": [],
   "source": [
    "!sudo apt-get install protobuf-compiler libprotoc-dev\n",
    "!pip install onnx\n",
    "!pip install onnx-caffe2"
   ]
  },
  {
   "cell_type": "markdown",
   "metadata": {},
   "source": [
    "Change working directory"
   ]
  },
  {
   "cell_type": "code",
   "execution_count": null,
   "metadata": {},
   "outputs": [],
   "source": [
    "%cd examples/fast_neural_style/"
   ]
  },
  {
   "cell_type": "markdown",
   "metadata": {},
   "source": [
    "Mount google drive "
   ]
  },
  {
   "cell_type": "code",
   "execution_count": null,
   "metadata": {},
   "outputs": [],
   "source": [
    "from google.colab import drive\n",
    "drive.mount('/content/drive')"
   ]
  },
  {
   "cell_type": "markdown",
   "metadata": {},
   "source": [
    "## Model inference"
   ]
  },
  {
   "cell_type": "code",
   "execution_count": null,
   "metadata": {},
   "outputs": [],
   "source": [
    "# Contains images for inference\n",
    "!mkdir test-img\n",
    "# Contains the output of the model (styled images)\n",
    "!mkdir outputs"
   ]
  },
  {
   "cell_type": "code",
   "execution_count": null,
   "metadata": {},
   "outputs": [],
   "source": [
    "# download the trained models\n",
    "!python download_saved_models.py"
   ]
  },
  {
   "cell_type": "markdown",
   "metadata": {},
   "source": [
    "Enter path to test image, output image, and the model below"
   ]
  },
  {
   "cell_type": "code",
   "execution_count": null,
   "metadata": {},
   "outputs": [],
   "source": [
    "#inference\n",
    "!python neural_style/neural_style.py eval \\\n",
    "    --content-image ./test-img/1.jpg \\\n",
    "    --model ./saved_models/mosaic.pth \\\n",
    "    --output-image ./outputs/1.jpg \\\n",
    "    --cuda 0"
   ]
  },
  {
   "cell_type": "code",
   "execution_count": null,
   "metadata": {},
   "outputs": [],
   "source": []
  },
  {
   "cell_type": "markdown",
   "metadata": {},
   "source": [
    "## Training a new style"
   ]
  },
  {
   "cell_type": "code",
   "execution_count": null,
   "metadata": {},
   "outputs": [],
   "source": [
    "# create a folder to keep the style images\n",
    "!mkdir styles"
   ]
  },
  {
   "cell_type": "markdown",
   "metadata": {},
   "source": [
    "### Download COCO dataset for training"
   ]
  },
  {
   "cell_type": "code",
   "execution_count": null,
   "metadata": {},
   "outputs": [],
   "source": [
    "# This might take a few minuets to download and extract\n",
    "!wget http://images.cocodataset.org/zips/train2014.zip\n",
    "!unzip train2014.zip\n",
    "!rm train2014.zip"
   ]
  },
  {
   "cell_type": "markdown",
   "metadata": {},
   "source": [
    "### Training the model"
   ]
  },
  {
   "cell_type": "markdown",
   "metadata": {},
   "source": [
    "Arguments:\n",
    "* --dataset: path to the parent of the folder containing training images\n",
    "* --style-image: The image used for styling\n",
    "* --saved-model-dir: where the model will be saved (if using colab make sure it is in your drive so you don't lose the trained model when the session ends.\n",
    "* --epochs: number of epochs\n",
    "* --cuda: 1 for using gpu and 0 for using cpu\n",
    "* --batch-size: number of images per batch. Colab GPU can fit 20.\n",
    "* --content-weight: weight of the content. (1e5 is recommended by the author)\n",
    "* --style-weight: weight of the style. (1e10 to 1e11 is recomended by the author)\n",
    "* --checkpoint-model-dir: path to where the model should be saved at each checkpoint\n",
    "* --image-size: size of training images. (Default is 256x256)\n",
    "* --lr: learning rate. (Default is 1e-3)\n",
    "* --log-interval: number of images after which the training loss is logged. (Default is 500)\n",
    "* --checkpoint-interval: number of batches after which a checkpoint of the trained model will be created. default is 2000.\n"
   ]
  },
  {
   "cell_type": "code",
   "execution_count": null,
   "metadata": {},
   "outputs": [],
   "source": [
    "!python neural_style/neural_style.py train \\\n",
    "    --dataset ./ \\\n",
    "    --style-image styles/mandela.jpg \\\n",
    "    --save-model-dir /content/drive/My\\ Drive/Neural\\ Style \\\n",
    "    --epochs 2 \\\n",
    "    --content-weight 1e5 \\\n",
    "    --style-weight 5e10 \\\n",
    "    --batch-size 20 \\\n",
    "    --cuda 1"
   ]
  }
 ],
 "metadata": {
  "kernelspec": {
   "display_name": "Python 3",
   "language": "python",
   "name": "python3"
  },
  "language_info": {
   "codemirror_mode": {
    "name": "ipython",
    "version": 3
   },
   "file_extension": ".py",
   "mimetype": "text/x-python",
   "name": "python",
   "nbconvert_exporter": "python",
   "pygments_lexer": "ipython3",
   "version": "3.7.3"
  }
 },
 "nbformat": 4,
 "nbformat_minor": 2
}
